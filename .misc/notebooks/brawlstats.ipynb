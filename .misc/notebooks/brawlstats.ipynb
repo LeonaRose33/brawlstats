{
 "cells": [
  {
   "cell_type": "code",
   "execution_count": 1,
   "metadata": {},
   "outputs": [],
   "source": [
    "import streamlit as st \n",
    "import json\n",
    "import pandas as pd \n",
    "from Brawlstats import APIrequests\n",
    "import base64\n",
    "from datetime import  datetime\n",
    "import mongomock\n",
    "from pymongo import MongoClient"
   ]
  },
  {
   "cell_type": "code",
   "execution_count": 2,
   "metadata": {},
   "outputs": [],
   "source": [
    "API_KEY = st.secrets['api']['api_key'] \n",
    "api =  APIrequests(api_key=API_KEY)\n",
    "\n",
    "user_tag = 'RGG9ULLVU'\n",
    "player_tag = user_tag\n",
    "MAX_PLAYER_COUNT = {\n",
    "    \"soloShowdown\": 10,\n",
    "    \"duoShowdown\": 10,\n",
    "    \"roboRumble\": 3,\n",
    "    \"bossFight\": 3,\n",
    "    \"superCityRampage\": 3,\n",
    "    \"gemGrab\": 6,\n",
    "    \"brawlBall\": 6,\n",
    "    \"bounty\": 6,\n",
    "    \"heist\": 6,\n",
    "    \"hotZone\": 6,\n",
    "    \"knockout\": 6,\n",
    "}"
   ]
  },
  {
   "cell_type": "code",
   "execution_count": 3,
   "metadata": {},
   "outputs": [],
   "source": [
    "def get_data(player_tag):\n",
    "    player = api.get_player(player_tag)\n",
    "    player = json.loads(player)\n",
    "    player['battle_logs'] = json.loads(api.get_player_battle_log(player_tag))\n",
    "    player['createdDatetime'] = datetime.now()\n",
    "    return player\n",
    "\n",
    "def recursive_items(data, results, parent_key=''):\n",
    "    if isinstance(data, dict):\n",
    "        for key, value in data.items():\n",
    "            full_key = f\"{parent_key}{key}\" if parent_key == '' else f\"{parent_key}_{key}\"  # Create a full key\n",
    "            yield from recursive_items(value, results, full_key)  # Recursively yield from the value\n",
    "    elif isinstance(data, list):\n",
    "        for idx, item in enumerate(data):\n",
    "            # Create a new key for list items\n",
    "            list_key = f\"{parent_key}_{idx}\" if parent_key else str(idx)\n",
    "            yield from recursive_items(item, results, list_key)  # Recursively yield from each item in the list\n",
    "    else:\n",
    "        # Only yield if the value is not a dictionary\n",
    "        if not isinstance(data, dict):\n",
    "            yield parent_key, data  # Yield the parent key and value if it's neither a list nor a dict\n",
    "\n",
    "def determine_win(row):\n",
    "    return 1 if (row['result'] == 'victory' or row['rank'] <= row['max_player_count'] * 0.3) else 0\n",
    "\n",
    "def get_played_brawlers(df, player_name):  \n",
    "    played_brawlers = []\n",
    "    for index, row in df.iterrows():\n",
    "        if player_name in row.values:\n",
    "            found_col = row.index[row.values == player_name ].tolist()\n",
    "            lookup_column = found_col[0].replace('name','brawler_name')\n",
    "            played_brawlers.append(row[lookup_column])\n",
    "    return pd.DataFrame(played_brawlers, columns=['played_brawler'])\n",
    "\n",
    "def calc_avg_game_duration(df):\n",
    "    return df['duration'].mean()\n",
    "\n",
    "def calc_win_ratio(df):\n",
    "    if len(df) >= 2:\n",
    "        wins_and_losses_values_count = df['isWin'].value_counts().to_list()\n",
    "        return wins_and_losses_values_count[0]/(sum(wins_and_losses_values_count))    \n",
    "    else:\n",
    "        get_value = df['isWin'].values\n",
    "        return float(get_value[0])\n",
    "\n",
    "def calc_star_player_ratio(df, player_name):\n",
    "    player_is_star_player = df.query(f\"starPlayer_name == '{player_name}'\")['starPlayer_name'].count()\n",
    "    num_star_player_awards = df['starPlayer_name'].value_counts().sum()\n",
    "    return player_is_star_player/num_star_player_awards\n",
    "\n",
    "def calc_proportions(df):\n",
    "    proportions = {}\n",
    "    value_counts = df['played_brawler'].value_counts()\n",
    "    brawler_names = value_counts.index\n",
    "    sum_value_counts =sum(value_counts)\n",
    "    brawler_picks = tuple(zip(brawler_names,value_counts))\n",
    "    for brawler_name, pick_count in brawler_picks:\n",
    "        pick_proportion = pick_count/sum_value_counts\n",
    "        proportions[brawler_name] = [pick_count, pick_proportion]\n",
    "    return proportions\n",
    "\n",
    "def brawler_pick_rate(df):\n",
    "    picks = calc_proportions(df)\n",
    "    for brawler, pick_rate in picks.items():\n",
    "        print(brawler, pick_rate[1])"
   ]
  },
  {
   "cell_type": "code",
   "execution_count": 4,
   "metadata": {},
   "outputs": [
    {
     "name": "stdout",
     "output_type": "stream",
     "text": [
      "<Response [200]>\n",
      "Data retrieved\n"
     ]
    }
   ],
   "source": [
    "player_tag ='RGG9ULLVU'\n",
    "player_data = get_data(player_tag)#\n",
    "player_name = player_data['name']"
   ]
  },
  {
   "cell_type": "markdown",
   "metadata": {},
   "source": [
    "# Construct Dataframes"
   ]
  },
  {
   "cell_type": "code",
   "execution_count": 5,
   "metadata": {},
   "outputs": [],
   "source": [
    "df_brawlers = pd.DataFrame(player_data['brawlers'])\n",
    "#df_brawlers"
   ]
  },
  {
   "cell_type": "code",
   "execution_count": 6,
   "metadata": {},
   "outputs": [],
   "source": [
    "df_playerstats = pd.DataFrame(pd.json_normalize(player_data))\n",
    "player_data_cols = df_playerstats.columns\n",
    "df_playerstats = df_playerstats[player_data_cols\n",
    "].drop(columns=['battle_logs.items','brawlers'])\n",
    "#df_playerstats"
   ]
  },
  {
   "cell_type": "code",
   "execution_count": 17,
   "metadata": {},
   "outputs": [],
   "source": [
    "battles = player_data['battle_logs']['items']\n",
    "\n",
    "df_battles = pd.DataFrame(battles)\n",
    "data = df_battles['event'] \n",
    "df_events = pd.DataFrame(data, columns=['event'])\n",
    "flattened_df = pd.json_normalize(df_events['event'], sep='_')\n",
    "#flattened_df\n",
    "df_battle_brawler = df_battles['battle']\n",
    "df_battle_brawler_flat = pd.json_normalize(df_battles['battle'], sep='_')\n",
    "df_brawls = pd.concat([df_battles['battleTime'], flattened_df, df_battle_brawler_flat.drop(columns=['mode', 'teams'])],axis=1)\n",
    "#df_brawls\n",
    "all_df = pd.DataFrame(columns=df_brawls.columns)\n",
    "all_battles = {}\n",
    "for idx, battle in enumerate(df_battle_brawler.items()):\n",
    "    results = {}\n",
    "    for key, value in recursive_items(battle[1], results):\n",
    "        results[key] = [value]\n",
    "    battle_time = df_battles['battleTime'][idx]\n",
    "    results['battleTime']=[battle_time]\n",
    "    all_battles[battle_time] = results\n",
    "    new_df = pd.DataFrame(all_battles[battle_time],index=[idx])\n",
    "    uncommon_columns = list(set(df_brawls.columns).difference(set(new_df.columns)))\n",
    "    sf_sll = pd.concat([new_df, df_brawls[uncommon_columns].iloc[[idx]]], axis=1)\n",
    "    all_df=pd.concat([all_df, sf_sll], axis=0)\n",
    "    \n",
    "all_df = all_df.drop(columns='id')\n",
    "all_df['duration'] = all_df['duration'].fillna(90)\n",
    "if 'played_brawler' not in all_df.columns:\n",
    "    #print('adding played_brawler column')\n",
    "    played_brawlers = get_played_brawlers(all_df, player_name)\n",
    "    all_df = pd.concat([all_df, played_brawlers], axis=1)\n",
    "    \n",
    "all_df = all_df.assign(max_player_count = all_df['mode'].map(MAX_PLAYER_COUNT))\n",
    "all_df = all_df.assign(isWin = all_df.apply(determine_win, axis=1))\n",
    "df_battles = all_df"
   ]
  },
  {
   "cell_type": "markdown",
   "metadata": {},
   "source": [
    "# Calculate Aggregations and Statistics"
   ]
  },
  {
   "cell_type": "code",
   "execution_count": 18,
   "metadata": {},
   "outputs": [],
   "source": [
    "df_battle_modes = df_battles[['mode', 'result','duration']]\n",
    "df_battle_modes = pd.DataFrame(df_battle_modes.value_counts().reset_index())\n",
    "df_battle_modes = df_battle_modes.rename(columns={0:'count'})\n",
    "#df_battle_modes"
   ]
  },
  {
   "cell_type": "code",
   "execution_count": 19,
   "metadata": {},
   "outputs": [],
   "source": [
    "brawlers_rank20 = df_brawlers.query('rank >=20')\n",
    "brawlers_rank20 = brawlers_rank20[['name', 'rank']]\n",
    "##print(brawlers_rank20)\n",
    "\n",
    "win_rate_friendly = calc_win_ratio(all_df[all_df['type']=='friendly'])\n",
    "##print(f\"{win_rate_friendly = }\")\n",
    "win_rate_ranked = calc_win_ratio(all_df[all_df['type']=='ranked'])\n",
    "#print(f\"{win_rate_ranked = }\")\n",
    "win_rate_global = calc_win_ratio(all_df[['isWin']]) \n",
    "#print(f\"{win_rate_global = }\")\n",
    "\n",
    "for brawler in played_brawlers.value_counts().index:\n",
    "    brawler = brawler[0]\n",
    "    df_brw = all_df[all_df['played_brawler']== brawler]\n",
    "    brawler_wr = calc_win_ratio(df_brw)\n",
    "    variable_name = f\"win_rate_{brawler.lower()}\"\n",
    "    globals()[variable_name] = brawler_wr\n",
    "    #print(variable_name, \"=\", globals()[variable_name])"
   ]
  },
  {
   "cell_type": "code",
   "execution_count": 39,
   "metadata": {},
   "outputs": [],
   "source": [
    "def calc_rate_change(df):\n",
    "    time_taken = df['duration'].sum() / 60 # minutes\n",
    "    total_ressources = df['trophyChange'].sum()\n",
    "    num_games = len(df['trophyChange'])\n",
    "    print(f\"{time_taken = :.0f} minutes, {total_ressources = }, {num_games = }\")\n",
    "    return (time_taken, total_ressources/num_games, total_ressources/time_taken)                "
   ]
  },
  {
   "cell_type": "code",
   "execution_count": 40,
   "metadata": {},
   "outputs": [
    {
     "name": "stdout",
     "output_type": "stream",
     "text": [
      "time_taken = 36 minutes, total_ressources = 47, num_games = 25\n"
     ]
    },
    {
     "data": {
      "text/plain": [
       "(35.766666666666666, 1.88, 1.3140726933830382)"
      ]
     },
     "execution_count": 40,
     "metadata": {},
     "output_type": "execute_result"
    }
   ],
   "source": [
    "calc_rate_change(df)"
   ]
  },
  {
   "cell_type": "markdown",
   "metadata": {},
   "source": []
  }
 ],
 "metadata": {
  "kernelspec": {
   "display_name": "jupyter-default",
   "language": "python",
   "name": "python3"
  },
  "language_info": {
   "codemirror_mode": {
    "name": "ipython",
    "version": 3
   },
   "file_extension": ".py",
   "mimetype": "text/x-python",
   "name": "python",
   "nbconvert_exporter": "python",
   "pygments_lexer": "ipython3",
   "version": "3.8.16"
  }
 },
 "nbformat": 4,
 "nbformat_minor": 2
}
